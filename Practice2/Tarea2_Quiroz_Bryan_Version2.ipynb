{
 "cells": [
  {
   "cell_type": "markdown",
   "metadata": {},
   "source": [
    "# Práctica 2 - Recuperación de información: Arreglo de sufijos\n",
    "Alumno: Bryan Rodrigo Quiroz Palominos"
   ]
  },
  {
   "cell_type": "code",
   "execution_count": 54,
   "metadata": {},
   "outputs": [],
   "source": [
    "import operator\n",
    "import re"
   ]
  },
  {
   "cell_type": "markdown",
   "metadata": {},
   "source": [
    "## Método para leer archivo"
   ]
  },
  {
   "cell_type": "code",
   "execution_count": 55,
   "metadata": {},
   "outputs": [],
   "source": [
    "def read_file(path):\n",
    "    file = open(path)\n",
    "    content = file.read()\n",
    "    file.close()\n",
    "    return content"
   ]
  },
  {
   "cell_type": "markdown",
   "metadata": {},
   "source": [
    "## Método para limpiar cadena obtenida de archivo "
   ]
  },
  {
   "cell_type": "code",
   "execution_count": 56,
   "metadata": {},
   "outputs": [],
   "source": [
    "def clean_string(str_to_clean):\n",
    "    str_with_only_alphanumeric =  re.compile(r'\\W+', re.UNICODE).split(str_to_clean)\n",
    "    str_clean = \" \".join(str_with_only_alphanumeric).replace(\"_\", \"\").strip().lower()\n",
    "    str_clean = \" \".join(str_clean.split())\n",
    "    return str_clean"
   ]
  },
  {
   "cell_type": "markdown",
   "metadata": {},
   "source": [
    "## Método crear arreglo de sufijos "
   ]
  },
  {
   "cell_type": "code",
   "execution_count": 57,
   "metadata": {},
   "outputs": [],
   "source": [
    "def suffix_array(str):\n",
    "    str = str + '$'\n",
    "    str = str.lower()\n",
    "    str_length = len(str)\n",
    "    suffix = []\n",
    "    i = 0\n",
    "    while i < str_length:\n",
    "        suffix.append(str[i:str_length])\n",
    "        i += 1\n",
    "    dictionary = dict()\n",
    "    for i in range(0, str_length):\n",
    "        value = suffix[i]\n",
    "        if value[0] != \" \":\n",
    "            dictionary[i] = value\n",
    "    sort = dict(sorted(dictionary.items(), key=operator.itemgetter(1)))\n",
    "    suffix_sorted = list(sort.values())\n",
    "    suffix_array = list(sort.keys())\n",
    "    print(\"Sufijos: \", list(dictionary.values()),\"\\n\")\n",
    "    print(\"Sufijos por orden lexicográfico: \", suffix_sorted,\"\\n\")\n",
    "    print(\"Arreglo de sufijos: \", suffix_array,\"\\n\")\n",
    "    return suffix, suffix_array"
   ]
  },
  {
   "cell_type": "markdown",
   "metadata": {},
   "source": [
    "## Método de búsqueda binaria en arreglo de sufijos"
   ]
  },
  {
   "cell_type": "code",
   "execution_count": 58,
   "metadata": {},
   "outputs": [],
   "source": [
    "def search(sub_str, suffix, suffix_array):\n",
    "    l = 1\n",
    "    r = len(suffix_array)\n",
    "    while l < r:\n",
    "        mid = (l + r) // 2\n",
    "        if sub_str > suffix[suffix_array[mid]][0]:\n",
    "            l = mid + 1\n",
    "        else:\n",
    "            r = mid\n",
    "    s = l\n",
    "    r = len(suffix_array)\n",
    "    while l < r:\n",
    "        mid = ((l + r) // 2)\n",
    "        if sub_str == suffix[suffix_array[mid]][0]:\n",
    "            l = mid + 1\n",
    "        else:\n",
    "            r = mid - 1\n",
    "    return s, r"
   ]
  },
  {
   "cell_type": "markdown",
   "metadata": {},
   "source": [
    "## Método para obtener ocurrencias "
   ]
  },
  {
   "cell_type": "code",
   "execution_count": 59,
   "metadata": {},
   "outputs": [],
   "source": [
    "def occurrences(inf, sup, str, suffix, suffix_array):\n",
    "    suffix_array_copy = suffix_array[inf:sup+1]\n",
    "    ocurrence = 0\n",
    "    for i in suffix_array_copy:\n",
    "        if suffix[i].startswith(str):\n",
    "            ocurrence +=1\n",
    "    return ocurrence"
   ]
  },
  {
   "cell_type": "markdown",
   "metadata": {},
   "source": [
    "## Leer archivo"
   ]
  },
  {
   "cell_type": "code",
   "execution_count": 60,
   "metadata": {},
   "outputs": [
    {
     "name": "stdout",
     "output_type": "stream",
     "text": [
      "Contenido del archivo: to be at the beach or to be at work, that is the real question\n",
      "\n"
     ]
    }
   ],
   "source": [
    "files = ['a_test.txt', 'b_test.txt', 'c_test.txt', 'd_test.txt']\n",
    "file_content = read_file('data-sets/'+ files[1])\n",
    "print('Contenido del archivo:', file_content)"
   ]
  },
  {
   "cell_type": "markdown",
   "metadata": {},
   "source": [
    "## Limpiar contenido de archivo"
   ]
  },
  {
   "cell_type": "code",
   "execution_count": 61,
   "metadata": {},
   "outputs": [
    {
     "name": "stdout",
     "output_type": "stream",
     "text": [
      "Contenido normalizado: to be at the beach or to be at work that is the real question\n"
     ]
    }
   ],
   "source": [
    "str_clean = clean_string(file_content)\n",
    "print('Contenido normalizado:', str_clean)"
   ]
  },
  {
   "cell_type": "markdown",
   "metadata": {},
   "source": [
    "## Palabra a buscar en contenido de archivo"
   ]
  },
  {
   "cell_type": "code",
   "execution_count": 62,
   "metadata": {},
   "outputs": [
    {
     "name": "stdout",
     "output_type": "stream",
     "text": [
      "Ingrese palabra a buscar: \n"
     ]
    },
    {
     "name": "stdin",
     "output_type": "stream",
     "text": [
      " TO BE\n"
     ]
    }
   ],
   "source": [
    "print(\"Ingrese palabra a buscar: \")\n",
    "str_find = input().lower()"
   ]
  },
  {
   "cell_type": "markdown",
   "metadata": {},
   "source": [
    "## Resultados de búsqueda en arreglo de sufijos "
   ]
  },
  {
   "cell_type": "code",
   "execution_count": 63,
   "metadata": {},
   "outputs": [
    {
     "name": "stdout",
     "output_type": "stream",
     "text": [
      "Sufijos:  ['to be at the beach or to be at work that is the real question$', 'o be at the beach or to be at work that is the real question$', 'be at the beach or to be at work that is the real question$', 'e at the beach or to be at work that is the real question$', 'at the beach or to be at work that is the real question$', 't the beach or to be at work that is the real question$', 'the beach or to be at work that is the real question$', 'he beach or to be at work that is the real question$', 'e beach or to be at work that is the real question$', 'beach or to be at work that is the real question$', 'each or to be at work that is the real question$', 'ach or to be at work that is the real question$', 'ch or to be at work that is the real question$', 'h or to be at work that is the real question$', 'or to be at work that is the real question$', 'r to be at work that is the real question$', 'to be at work that is the real question$', 'o be at work that is the real question$', 'be at work that is the real question$', 'e at work that is the real question$', 'at work that is the real question$', 't work that is the real question$', 'work that is the real question$', 'ork that is the real question$', 'rk that is the real question$', 'k that is the real question$', 'that is the real question$', 'hat is the real question$', 'at is the real question$', 't is the real question$', 'is the real question$', 's the real question$', 'the real question$', 'he real question$', 'e real question$', 'real question$', 'eal question$', 'al question$', 'l question$', 'question$', 'uestion$', 'estion$', 'stion$', 'tion$', 'ion$', 'on$', 'n$', '$'] \n",
      "\n",
      "Sufijos por orden lexicográfico:  ['$', 'ach or to be at work that is the real question$', 'al question$', 'at is the real question$', 'at the beach or to be at work that is the real question$', 'at work that is the real question$', 'be at the beach or to be at work that is the real question$', 'be at work that is the real question$', 'beach or to be at work that is the real question$', 'ch or to be at work that is the real question$', 'e at the beach or to be at work that is the real question$', 'e at work that is the real question$', 'e beach or to be at work that is the real question$', 'e real question$', 'each or to be at work that is the real question$', 'eal question$', 'estion$', 'h or to be at work that is the real question$', 'hat is the real question$', 'he beach or to be at work that is the real question$', 'he real question$', 'ion$', 'is the real question$', 'k that is the real question$', 'l question$', 'n$', 'o be at the beach or to be at work that is the real question$', 'o be at work that is the real question$', 'on$', 'or to be at work that is the real question$', 'ork that is the real question$', 'question$', 'r to be at work that is the real question$', 'real question$', 'rk that is the real question$', 's the real question$', 'stion$', 't is the real question$', 't the beach or to be at work that is the real question$', 't work that is the real question$', 'that is the real question$', 'the beach or to be at work that is the real question$', 'the real question$', 'tion$', 'to be at the beach or to be at work that is the real question$', 'to be at work that is the real question$', 'uestion$', 'work that is the real question$'] \n",
      "\n",
      "Arreglo de sufijos:  [61, 15, 50, 38, 6, 28, 3, 25, 13, 16, 4, 26, 11, 46, 14, 49, 55, 17, 37, 10, 45, 58, 41, 34, 51, 60, 1, 23, 59, 19, 32, 53, 20, 48, 33, 42, 56, 39, 7, 29, 36, 9, 44, 57, 0, 22, 54, 31] \n",
      "\n"
     ]
    }
   ],
   "source": [
    "suffix, suffix_array = suffix_array(str_clean)\n",
    "inf, sup = search(str_find[0], suffix, suffix_array)"
   ]
  },
  {
   "cell_type": "code",
   "execution_count": 64,
   "metadata": {},
   "outputs": [
    {
     "name": "stdout",
     "output_type": "stream",
     "text": [
      "2 ocurrencias de: to be en: to be at the beach or to be at work that is the real question\n"
     ]
    }
   ],
   "source": [
    "ocurrences = occurrences(inf, sup, str_find, suffix, suffix_array)\n",
    "print(ocurrences,\"ocurrencias de:\",str_find,\"en:\",str_clean)"
   ]
  }
 ],
 "metadata": {
  "kernelspec": {
   "display_name": "Python 3",
   "language": "python",
   "name": "python3"
  },
  "language_info": {
   "codemirror_mode": {
    "name": "ipython",
    "version": 3
   },
   "file_extension": ".py",
   "mimetype": "text/x-python",
   "name": "python",
   "nbconvert_exporter": "python",
   "pygments_lexer": "ipython3",
   "version": "3.7.4"
  }
 },
 "nbformat": 4,
 "nbformat_minor": 4
}
