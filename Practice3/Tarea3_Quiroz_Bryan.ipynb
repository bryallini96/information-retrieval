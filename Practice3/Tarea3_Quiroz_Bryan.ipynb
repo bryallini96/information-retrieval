{
 "cells": [
  {
   "cell_type": "markdown",
   "metadata": {},
   "source": [
    "# Práctica 3 - Recuperación de información\n",
    "Alumno: Bryan Rodrigo Quiroz Palominos"
   ]
  },
  {
   "cell_type": "code",
   "execution_count": 1,
   "metadata": {},
   "outputs": [],
   "source": [
    "import operator"
   ]
  },
  {
   "cell_type": "markdown",
   "metadata": {},
   "source": [
    "## Diccionario con valores de cada letra en scrabble"
   ]
  },
  {
   "cell_type": "code",
   "execution_count": 2,
   "metadata": {},
   "outputs": [],
   "source": [
    "letter_values = dict(a=1, b=3, c=3, ch=5, d=2, e=1, f=4, g=2, h=4, i=1, j=8, k=0, l=1, ll=8, m=3, n=1, ñ=8, o=1, p=3,\n",
    "                     q=5, r=1, rr=8, s=1, t=1, u=1, v=4, w=0, x=8, y=4, z=10)"
   ]
  },
  {
   "cell_type": "markdown",
   "metadata": {},
   "source": [
    "## Estructura de datos creada para trabajar con índice invertido"
   ]
  },
  {
   "cell_type": "code",
   "execution_count": 3,
   "metadata": {},
   "outputs": [],
   "source": [
    "inverted_index = dict(a=[], b=[], c=[], d=[], e=[], f=[], g=[], h=[], i=[], j=[], k=[], l=[], m=[], n=[],\n",
    "                      ñ=[], o=[], p=[],\n",
    "                      q=[], r=[], s=[], t=[], u=[], v=[], w=[], x=[], y=[], z=[])"
   ]
  },
  {
   "cell_type": "markdown",
   "metadata": {},
   "source": [
    "## Método para leer archivo"
   ]
  },
  {
   "cell_type": "code",
   "execution_count": 4,
   "metadata": {},
   "outputs": [],
   "source": [
    "def read_file(path):\n",
    "    file = open(path)\n",
    "    content = file.read()\n",
    "    file.close()\n",
    "    return content"
   ]
  },
  {
   "cell_type": "markdown",
   "metadata": {},
   "source": [
    "## Método para obtener palabras de archivo y almacenarlas en índice invertido"
   ]
  },
  {
   "cell_type": "code",
   "execution_count": 5,
   "metadata": {},
   "outputs": [],
   "source": [
    "def get_words_of_file(content):\n",
    "    list_words = content.split('\\n')\n",
    "    i = 0\n",
    "    for word in list_words:\n",
    "        letters = get_word_letters(word)\n",
    "        for id, value in letters.items():\n",
    "            inverted_index[id].append((i, value))\n",
    "        i += 1\n",
    "    return list_words"
   ]
  },
  {
   "cell_type": "markdown",
   "metadata": {},
   "source": [
    "## Método para calcular valor de una palabra "
   ]
  },
  {
   "cell_type": "code",
   "execution_count": 6,
   "metadata": {},
   "outputs": [],
   "source": [
    "def word_value(word_list):\n",
    "    value = 0\n",
    "    for i in word_list:\n",
    "        value = value + letter_values.get(i)\n",
    "    return value"
   ]
  },
  {
   "cell_type": "markdown",
   "metadata": {},
   "source": [
    "## Método para ingresar letras"
   ]
  },
  {
   "cell_type": "code",
   "execution_count": 7,
   "metadata": {},
   "outputs": [],
   "source": [
    "def enter_letters():\n",
    "    word_list = []\n",
    "    validation = False\n",
    "    for i in range(7):\n",
    "        while not validation:\n",
    "            print('Ingrese la palabra #', i + 1)\n",
    "            letter = input()\n",
    "            validation = validate_enter_letter(letter)\n",
    "        word_list.append(letter)\n",
    "        validation = False\n",
    "    return word_list"
   ]
  },
  {
   "cell_type": "markdown",
   "metadata": {},
   "source": [
    "### Método para validar letras ingresadas"
   ]
  },
  {
   "cell_type": "code",
   "execution_count": 8,
   "metadata": {},
   "outputs": [],
   "source": [
    "def validate_enter_letter(letter):\n",
    "    valid_letters = dict(a=1, b=1, c=1, d=1, e=1, f=1, g=1, h=1, i=1, j=1, k=1, l=1, m=1, n=1,\n",
    "                          ñ=1, o=1, p=1,\n",
    "                          q=1, r=1, s=1, t=1, u=1, v=1, w=1, x=1, y=1, z=1)\n",
    "    if valid_letters.get(letter):\n",
    "        return True\n",
    "    return False"
   ]
  },
  {
   "cell_type": "markdown",
   "metadata": {},
   "source": [
    "## Método para obtener incidencia de cada letra"
   ]
  },
  {
   "cell_type": "code",
   "execution_count": 9,
   "metadata": {},
   "outputs": [],
   "source": [
    "def get_word_letters(word):\n",
    "    letters = dict()\n",
    "    for i in range(len(word)):\n",
    "        cant = letters.get(word[i])\n",
    "        if cant:\n",
    "            cant += 1\n",
    "            letters[word[i]] = cant\n",
    "        else:\n",
    "            letters[word[i]] = 1\n",
    "    return letters"
   ]
  },
  {
   "cell_type": "markdown",
   "metadata": {},
   "source": [
    "## Método para obtener listas con relación a las letras ingresadas "
   ]
  },
  {
   "cell_type": "code",
   "execution_count": 10,
   "metadata": {},
   "outputs": [],
   "source": [
    "def get_word_lists(lista):\n",
    "    keys = list(lista.keys())\n",
    "    j = 0\n",
    "    dic = dict()\n",
    "    for i in keys:\n",
    "        lista = inverted_index.get(i)\n",
    "        if lista:\n",
    "            dic[j] = lista\n",
    "        j += 1\n",
    "    return dic"
   ]
  },
  {
   "cell_type": "markdown",
   "metadata": {},
   "source": [
    "## Métodos para realizar intersección"
   ]
  },
  {
   "cell_type": "code",
   "execution_count": 11,
   "metadata": {},
   "outputs": [],
   "source": [
    "def create_set(values):\n",
    "    s = set()\n",
    "    for i in values:\n",
    "        for j in i:\n",
    "            s.add(j[0])\n",
    "    return s\n",
    "\n",
    "\n",
    "def get_list_to_intersect(list):\n",
    "    list_to_intersect = []\n",
    "    for k in list:\n",
    "        list_to_intersect.append(k[0])\n",
    "    return list_to_intersect\n",
    "\n",
    "\n",
    "def intersect_words(lists):\n",
    "    s = create_set(lists.values())\n",
    "    final_list = []\n",
    "    for i in s:\n",
    "        word = word_list[i]\n",
    "        intersect_set = set()\n",
    "        intersect_set.add(i)\n",
    "        sum = 0\n",
    "        for j in lists.values():\n",
    "            intersect_list = get_list_to_intersect(j)\n",
    "            list_to_set = set(intersect_list)\n",
    "            result = list_to_set.intersection(intersect_set)\n",
    "            if result:\n",
    "                sum += 1\n",
    "        if len(word) == sum:\n",
    "            final_list.append(word)\n",
    "    return final_list"
   ]
  },
  {
   "cell_type": "markdown",
   "metadata": {},
   "source": [
    "## Método para rankear palabras"
   ]
  },
  {
   "cell_type": "code",
   "execution_count": 12,
   "metadata": {},
   "outputs": [],
   "source": [
    "def rank_words(word_list):\n",
    "    rank = dict()\n",
    "    for i in word_list:\n",
    "        value = word_value(i)\n",
    "        rank[value] = i\n",
    "    rank_sort = sorted(rank.items(), key=operator.itemgetter(0), reverse=True)\n",
    "\n",
    "    for value, word in rank_sort:\n",
    "        print(word, 'puntuación -->', value)"
   ]
  },
  {
   "cell_type": "markdown",
   "metadata": {},
   "source": [
    "## Leer archivo"
   ]
  },
  {
   "cell_type": "code",
   "execution_count": 13,
   "metadata": {},
   "outputs": [],
   "source": [
    "#file_content = read_file('dict/diccionario.txt')\n",
    "file_content = read_file('dict/test.txt')"
   ]
  },
  {
   "cell_type": "markdown",
   "metadata": {},
   "source": [
    "## Ingresar letras"
   ]
  },
  {
   "cell_type": "code",
   "execution_count": 14,
   "metadata": {},
   "outputs": [
    {
     "name": "stdout",
     "output_type": "stream",
     "text": [
      "Ingrese la palabra # 1\n"
     ]
    },
    {
     "name": "stdin",
     "output_type": "stream",
     "text": [
      " a\n"
     ]
    },
    {
     "name": "stdout",
     "output_type": "stream",
     "text": [
      "Ingrese la palabra # 2\n"
     ]
    },
    {
     "name": "stdin",
     "output_type": "stream",
     "text": [
      " s\n"
     ]
    },
    {
     "name": "stdout",
     "output_type": "stream",
     "text": [
      "Ingrese la palabra # 3\n"
     ]
    },
    {
     "name": "stdin",
     "output_type": "stream",
     "text": [
      " m\n"
     ]
    },
    {
     "name": "stdout",
     "output_type": "stream",
     "text": [
      "Ingrese la palabra # 4\n"
     ]
    },
    {
     "name": "stdin",
     "output_type": "stream",
     "text": [
      " o\n"
     ]
    },
    {
     "name": "stdout",
     "output_type": "stream",
     "text": [
      "Ingrese la palabra # 5\n"
     ]
    },
    {
     "name": "stdin",
     "output_type": "stream",
     "text": [
      " q\n"
     ]
    },
    {
     "name": "stdout",
     "output_type": "stream",
     "text": [
      "Ingrese la palabra # 6\n"
     ]
    },
    {
     "name": "stdin",
     "output_type": "stream",
     "text": [
      " k\n"
     ]
    },
    {
     "name": "stdout",
     "output_type": "stream",
     "text": [
      "Ingrese la palabra # 7\n"
     ]
    },
    {
     "name": "stdin",
     "output_type": "stream",
     "text": [
      " r\n"
     ]
    },
    {
     "name": "stdout",
     "output_type": "stream",
     "text": [
      "Letras ingresadas ['a', 's', 'm', 'o', 'q', 'k', 'r']\n"
     ]
    }
   ],
   "source": [
    "word_list = get_words_of_file(file_content)\n",
    "letters = enter_letters()\n",
    "print('Letras ingresadas',letters)"
   ]
  },
  {
   "cell_type": "markdown",
   "metadata": {},
   "source": [
    "## Palabras rankeadas encontradas"
   ]
  },
  {
   "cell_type": "code",
   "execution_count": 15,
   "metadata": {},
   "outputs": [
    {
     "name": "stdout",
     "output_type": "stream",
     "text": [
      "morsa puntuación --> 7\n",
      "mas puntuación --> 5\n",
      "a puntuación --> 1\n"
     ]
    }
   ],
   "source": [
    "frecuency = get_word_letters(letters)\n",
    "lists = get_word_lists(frecuency)\n",
    "final_list = intersect_words(lists)\n",
    "if len(final_list) > 0:\n",
    "    rank_words(final_list)\n",
    "else:\n",
    "    print(\"No se encontraron palabras\")"
   ]
  }
 ],
 "metadata": {
  "kernelspec": {
   "display_name": "Python 3",
   "language": "python",
   "name": "python3"
  },
  "language_info": {
   "codemirror_mode": {
    "name": "ipython",
    "version": 3
   },
   "file_extension": ".py",
   "mimetype": "text/x-python",
   "name": "python",
   "nbconvert_exporter": "python",
   "pygments_lexer": "ipython3",
   "version": "3.7.4"
  }
 },
 "nbformat": 4,
 "nbformat_minor": 4
}
