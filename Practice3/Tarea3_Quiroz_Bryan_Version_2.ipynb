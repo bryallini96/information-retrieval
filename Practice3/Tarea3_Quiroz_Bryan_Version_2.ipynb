{
 "cells": [
  {
   "cell_type": "markdown",
   "metadata": {},
   "source": [
    "# Práctica 3 - Recuperación de información\n",
    "Alumno: Bryan Rodrigo Quiroz Palominos"
   ]
  },
  {
   "cell_type": "code",
   "execution_count": 31,
   "metadata": {},
   "outputs": [],
   "source": [
    "import operator"
   ]
  },
  {
   "cell_type": "markdown",
   "metadata": {},
   "source": [
    "## Diccionario con valores de cada letra en scrabble"
   ]
  },
  {
   "cell_type": "code",
   "execution_count": 32,
   "metadata": {},
   "outputs": [],
   "source": [
    "letter_values = dict(a=1, b=3, c=3, ch=5, d=2, e=1, f=4, g=2, h=4, i=1, j=8, k=0, l=1, ll=8, m=3, n=1, ñ=8, o=1, p=3,\n",
    "                     q=5, r=1, rr=8, s=1, t=1, u=1, v=4, w=0, x=8, y=4, z=10)"
   ]
  },
  {
   "cell_type": "markdown",
   "metadata": {},
   "source": [
    "## Estructura de datos creada para trabajar con índice invertido"
   ]
  },
  {
   "cell_type": "code",
   "execution_count": 33,
   "metadata": {},
   "outputs": [],
   "source": [
    "inverted_index = dict()"
   ]
  },
  {
   "cell_type": "markdown",
   "metadata": {},
   "source": [
    "## Método para leer archivo"
   ]
  },
  {
   "cell_type": "code",
   "execution_count": 34,
   "metadata": {},
   "outputs": [],
   "source": [
    "def read_file(path):\n",
    "    file = open(path)\n",
    "    content = file.read()\n",
    "    file.close()\n",
    "    return content"
   ]
  },
  {
   "cell_type": "markdown",
   "metadata": {},
   "source": [
    "## Método para obtener palabras de archivo y almacenarlas en índice invertido"
   ]
  },
  {
   "cell_type": "code",
   "execution_count": 35,
   "metadata": {},
   "outputs": [],
   "source": [
    "def get_words_of_file(content):\n",
    "    dictionary = content.split('\\n')\n",
    "    word_index = 0\n",
    "    for word in dictionary:\n",
    "        word_letters = get_letters_in_word(word)\n",
    "        for letter, value in word_letters.items():\n",
    "            index = inverted_index.get(letter)\n",
    "            if not index:\n",
    "                inverted_index[letter] = [[], [], [], [], [], [], []]\n",
    "            inverted_index[letter][value].append([word_index, value])\n",
    "        word_index += 1\n",
    "    return dictionary"
   ]
  },
  {
   "cell_type": "markdown",
   "metadata": {},
   "source": [
    "## Método para calcular valor de una palabra "
   ]
  },
  {
   "cell_type": "code",
   "execution_count": 36,
   "metadata": {},
   "outputs": [],
   "source": [
    "def word_value(word):\n",
    "    value = 0\n",
    "    for letter in word:\n",
    "        value = value + letter_values.get(letter)\n",
    "    return value"
   ]
  },
  {
   "cell_type": "markdown",
   "metadata": {},
   "source": [
    "## Método para ingresar letras"
   ]
  },
  {
   "cell_type": "code",
   "execution_count": 37,
   "metadata": {},
   "outputs": [],
   "source": [
    "def enter_letters():\n",
    "    letters_entered_list = []\n",
    "    validation = False\n",
    "    for word_number in range(7):\n",
    "        while not validation:\n",
    "            print('Ingrese la palabra #', word_number + 1)\n",
    "            letter = input()\n",
    "            validation = validate_enter_letter(letter)\n",
    "        letters_entered_list.append(letter)\n",
    "        validation = False\n",
    "    return letters_entered_list"
   ]
  },
  {
   "cell_type": "markdown",
   "metadata": {},
   "source": [
    "### Método para validar letras ingresadas"
   ]
  },
  {
   "cell_type": "code",
   "execution_count": 38,
   "metadata": {},
   "outputs": [],
   "source": [
    "def validate_enter_letter(letter):\n",
    "    valid_letters = dict(a=1, b=1, c=1, d=1, e=1, f=1, g=1, h=1, i=1, j=1, k=1, l=1, m=1, n=1,\n",
    "                         ñ=1, o=1, p=1,\n",
    "                         q=1, r=1, s=1, t=1, u=1, v=1, w=1, x=1, y=1, z=1)\n",
    "    if valid_letters.get(letter):\n",
    "        return True\n",
    "    return False"
   ]
  },
  {
   "cell_type": "markdown",
   "metadata": {},
   "source": [
    "## Método para obtener incidencia de cada letra"
   ]
  },
  {
   "cell_type": "code",
   "execution_count": 39,
   "metadata": {},
   "outputs": [],
   "source": [
    "def get_letters_in_word(word):\n",
    "    letter_frequency_in_word = dict()\n",
    "    for letter in range(len(word)):\n",
    "        letter_frequency = letter_frequency_in_word.get(word[letter])\n",
    "        if letter_frequency:\n",
    "            letter_frequency += 1\n",
    "            letter_frequency_in_word[word[letter]] = letter_frequency\n",
    "        else:\n",
    "            letter_frequency_in_word[word[letter]] = 1\n",
    "    return letter_frequency_in_word"
   ]
  },
  {
   "cell_type": "markdown",
   "metadata": {},
   "source": [
    "## Método para obtener listas con relación a las letras ingresadas "
   ]
  },
  {
   "cell_type": "code",
   "execution_count": 40,
   "metadata": {},
   "outputs": [],
   "source": [
    "def get_letters_entered_lists(letters_entered_list):\n",
    "    lists_cant = 0\n",
    "    dic = dict()\n",
    "    for letter, frequency in letters_entered_list.items():\n",
    "        letters_entered_list = inverted_index.get(letter)\n",
    "        aux_list = []\n",
    "        while frequency > 0:\n",
    "            aux_list = aux_list + letters_entered_list[frequency]\n",
    "            frequency -= 1\n",
    "        if aux_list:\n",
    "            dic[lists_cant] = aux_list\n",
    "        lists_cant += 1\n",
    "    return dic"
   ]
  },
  {
   "cell_type": "markdown",
   "metadata": {},
   "source": [
    "## Método para realizar intersección"
   ]
  },
  {
   "cell_type": "code",
   "execution_count": 41,
   "metadata": {},
   "outputs": [],
   "source": [
    "def intersect_lists(letter_entered_lists):\n",
    "    words_dict = dict()\n",
    "    for i in letter_entered_lists.values():\n",
    "        for j in i:\n",
    "            cant = words_dict.get(j[0])\n",
    "            if cant:\n",
    "                cant += j[1]\n",
    "                words_dict[j[0]] = cant\n",
    "            else:\n",
    "                words_dict[j[0]] = j[1]\n",
    "    words = []\n",
    "    for id, key in words_dict.items():\n",
    "        if len(word_list[id]) == key and len(word_list[id]) > 1:\n",
    "            words.append(word_list[id])\n",
    "    print(words)\n",
    "    return words"
   ]
  },
  {
   "cell_type": "markdown",
   "metadata": {},
   "source": [
    "## Método para rankear palabras"
   ]
  },
  {
   "cell_type": "code",
   "execution_count": 42,
   "metadata": {},
   "outputs": [],
   "source": [
    "def rank_words(words_list):\n",
    "    rank = dict()\n",
    "    for word in words_list:\n",
    "        value = word_value(word)\n",
    "        rank[word] = value\n",
    "    rank_sort = sorted(rank.items(), key=operator.itemgetter(1), reverse=True)\n",
    "\n",
    "    for value, word in rank_sort:\n",
    "        print(word, 'puntuación -->', value)"
   ]
  },
  {
   "cell_type": "markdown",
   "metadata": {},
   "source": [
    "## Leer archivo"
   ]
  },
  {
   "cell_type": "code",
   "execution_count": 43,
   "metadata": {},
   "outputs": [],
   "source": [
    "file_content = read_file('dict/diccionario.txt')"
   ]
  },
  {
   "cell_type": "markdown",
   "metadata": {},
   "source": [
    "## Ingresar letras"
   ]
  },
  {
   "cell_type": "code",
   "execution_count": 44,
   "metadata": {},
   "outputs": [
    {
     "name": "stdout",
     "output_type": "stream",
     "text": [
      "Ingrese la palabra # 1\n"
     ]
    },
    {
     "name": "stdin",
     "output_type": "stream",
     "text": [
      " k\n"
     ]
    },
    {
     "name": "stdout",
     "output_type": "stream",
     "text": [
      "Ingrese la palabra # 2\n"
     ]
    },
    {
     "name": "stdin",
     "output_type": "stream",
     "text": [
      " l\n"
     ]
    },
    {
     "name": "stdout",
     "output_type": "stream",
     "text": [
      "Ingrese la palabra # 3\n"
     ]
    },
    {
     "name": "stdin",
     "output_type": "stream",
     "text": [
      " a\n"
     ]
    },
    {
     "name": "stdout",
     "output_type": "stream",
     "text": [
      "Ingrese la palabra # 4\n"
     ]
    },
    {
     "name": "stdin",
     "output_type": "stream",
     "text": [
      " e\n"
     ]
    },
    {
     "name": "stdout",
     "output_type": "stream",
     "text": [
      "Ingrese la palabra # 5\n"
     ]
    },
    {
     "name": "stdin",
     "output_type": "stream",
     "text": [
      " s\n"
     ]
    },
    {
     "name": "stdout",
     "output_type": "stream",
     "text": [
      "Ingrese la palabra # 6\n"
     ]
    },
    {
     "name": "stdin",
     "output_type": "stream",
     "text": [
      " i\n"
     ]
    },
    {
     "name": "stdout",
     "output_type": "stream",
     "text": [
      "Ingrese la palabra # 7\n"
     ]
    },
    {
     "name": "stdin",
     "output_type": "stream",
     "text": [
      " d\n"
     ]
    },
    {
     "name": "stdout",
     "output_type": "stream",
     "text": [
      "Letras ingresadas ['k', 'l', 'a', 'e', 's', 'i', 'd']\n"
     ]
    }
   ],
   "source": [
    "word_list = get_words_of_file(file_content)\n",
    "letters = enter_letters()\n",
    "print('Letras ingresadas',letters)"
   ]
  },
  {
   "cell_type": "markdown",
   "metadata": {},
   "source": [
    "## Palabras rankeadas encontradas"
   ]
  },
  {
   "cell_type": "code",
   "execution_count": 45,
   "metadata": {},
   "outputs": [
    {
     "name": "stdout",
     "output_type": "stream",
     "text": [
      "['ka', 'sake', 'al', 'ale', 'ali', 'al', 'deal', 'del', 'dial', 'del', 'edil', 'el', 'el', 'ideal', 'isla', 'la', 'las', 'le', 'les', 'leida', 'lid', 'lis', 'lisa', 'lia', 'al', 'ali', 'la', 'sal', 'sedal', 'sel', 'sil', 'ad', 'as', 'asi', 'dea', 'dia', 'ea', 'esa', 'esa', 'ida', 'idea', 'isa', 'as', 'seda', 'sida', 'de', 'des', 'de', 'se', 'se', 'sed', 'si', 'si', 'si', 'di']\n",
      "6 puntuación --> ideal\n",
      "6 puntuación --> leida\n",
      "6 puntuación --> sedal\n",
      "5 puntuación --> deal\n",
      "5 puntuación --> dial\n",
      "5 puntuación --> edil\n",
      "5 puntuación --> idea\n",
      "5 puntuación --> seda\n",
      "5 puntuación --> sida\n",
      "4 puntuación --> del\n",
      "4 puntuación --> isla\n",
      "4 puntuación --> lid\n",
      "4 puntuación --> lisa\n",
      "4 puntuación --> dea\n",
      "4 puntuación --> dia\n",
      "4 puntuación --> ida\n",
      "4 puntuación --> des\n",
      "4 puntuación --> sed\n",
      "3 puntuación --> sake\n",
      "3 puntuación --> ale\n",
      "3 puntuación --> ali\n",
      "3 puntuación --> las\n",
      "3 puntuación --> les\n",
      "3 puntuación --> lis\n",
      "3 puntuación --> lia\n",
      "3 puntuación --> sal\n",
      "3 puntuación --> sel\n",
      "3 puntuación --> sil\n",
      "3 puntuación --> ad\n",
      "3 puntuación --> asi\n",
      "3 puntuación --> esa\n",
      "3 puntuación --> isa\n",
      "3 puntuación --> de\n",
      "3 puntuación --> di\n",
      "2 puntuación --> al\n",
      "2 puntuación --> el\n",
      "2 puntuación --> la\n",
      "2 puntuación --> le\n",
      "2 puntuación --> as\n",
      "2 puntuación --> ea\n",
      "2 puntuación --> se\n",
      "2 puntuación --> si\n",
      "1 puntuación --> ka\n"
     ]
    }
   ],
   "source": [
    "frequency = get_letters_in_word(letters)\n",
    "lists = get_letters_entered_lists(frequency)\n",
    "final_list = intersect_lists(lists)\n",
    "\n",
    "if len(final_list) > 0:\n",
    "    rank_words(final_list)\n",
    "else:\n",
    "    print(\"No se encontraron palabras\")"
   ]
  }
 ],
 "metadata": {
  "kernelspec": {
   "display_name": "Python 3",
   "language": "python",
   "name": "python3"
  },
  "language_info": {
   "codemirror_mode": {
    "name": "ipython",
    "version": 3
   },
   "file_extension": ".py",
   "mimetype": "text/x-python",
   "name": "python",
   "nbconvert_exporter": "python",
   "pygments_lexer": "ipython3",
   "version": "3.7.4"
  }
 },
 "nbformat": 4,
 "nbformat_minor": 4
}
