{
 "cells": [
  {
   "cell_type": "markdown",
   "metadata": {},
   "source": [
    "# Práctica 4 - Recuperación de información: KD Tree vs Brute Force\n",
    "Alumno: Bryan Rodrigo Quiroz Palominos"
   ]
  },
  {
   "cell_type": "markdown",
   "metadata": {},
   "source": [
    "### Instrucciones: Realizar una comparación entre los tiempos de ejecución de KD Tree y Fuerza bruta, aumentando la dimensión para observar \"la maldición de la dimensión\""
   ]
  },
  {
   "cell_type": "markdown",
   "metadata": {},
   "source": [
    "## Librerias utilizadas"
   ]
  },
  {
   "cell_type": "code",
   "execution_count": 1,
   "metadata": {},
   "outputs": [],
   "source": [
    "import numpy as np\n",
    "import math\n",
    "import time\n",
    "import random\n",
    "import matplotlib.pyplot as plt\n",
    "from scipy import spatial "
   ]
  },
  {
   "cell_type": "markdown",
   "metadata": {},
   "source": [
    "## Valores para ejecutar algoritmos"
   ]
  },
  {
   "cell_type": "code",
   "execution_count": 2,
   "metadata": {},
   "outputs": [],
   "source": [
    "dimensions = [5, 10, 15, 20, 25, 30, 40, 50, 100]\n",
    "data_qty = 100000\n",
    "dist = 15"
   ]
  },
  {
   "cell_type": "markdown",
   "metadata": {},
   "source": [
    "## Generar datos de n cantidad y m dimensión"
   ]
  },
  {
   "cell_type": "code",
   "execution_count": 3,
   "metadata": {},
   "outputs": [],
   "source": [
    "def generate_data(dimension):\n",
    "    np.random.seed(1234)\n",
    "    data = np.random.randn(data_qty, dimension)\n",
    "    return data"
   ]
  },
  {
   "cell_type": "markdown",
   "metadata": {},
   "source": [
    "## Algoritmo de fuerza bruta para vecinos más cercanos"
   ]
  },
  {
   "cell_type": "code",
   "execution_count": 4,
   "metadata": {},
   "outputs": [],
   "source": [
    "def brute_force(query, dist, data):\n",
    "    initial_time = time.time()\n",
    "    neighbors = []\n",
    "    for i in range(len(data)):\n",
    "        euclidean_distance = 0        \n",
    "        euclidean_distance += np.power((query - data[i]),2)\n",
    "        euclidean_distance = np.sum(euclidean_distance)\n",
    "        if (dist >= math.sqrt(euclidean_distance)):\n",
    "            neighbors.append(i)\n",
    "    time_execution = time.time() - initial_time\n",
    "    return neighbors, time_execution"
   ]
  },
  {
   "cell_type": "markdown",
   "metadata": {},
   "source": [
    "## Algoritmo KD-Tree"
   ]
  },
  {
   "cell_type": "code",
   "execution_count": 5,
   "metadata": {},
   "outputs": [],
   "source": [
    "def kdtree_implementation(data, query, dist):\n",
    "    initial_time = time.time()\n",
    "    kdtree = spatial.KDTree(np.copy(data))\n",
    "    points = kdtree.query_ball_point(query,dist)\n",
    "    time_execution = time.time() - initial_time\n",
    "    return points, time_execution"
   ]
  },
  {
   "cell_type": "markdown",
   "metadata": {},
   "source": [
    "## Ejecutar Algoritmo KD-Tree y Fuerza Bruta "
   ]
  },
  {
   "cell_type": "code",
   "execution_count": 6,
   "metadata": {},
   "outputs": [],
   "source": [
    "timeKDT = []\n",
    "timeBF = []\n",
    "for i in dimensions:\n",
    "    data = generate_data(i)\n",
    "    query = data[0]\n",
    "\n",
    "    pointsKDT, time_executionKDT = kdtree_implementation(data,query,dist)\n",
    "    timeKDT.append(time_executionKDT)\n",
    "    \n",
    "    pointsBF, time_executionBF = brute_force(query,dist,data)\n",
    "    timeBF.append(time_executionBF)"
   ]
  },
  {
   "cell_type": "markdown",
   "metadata": {},
   "source": [
    "## Tiempos de ejecución de KD-Tree"
   ]
  },
  {
   "cell_type": "code",
   "execution_count": 7,
   "metadata": {},
   "outputs": [
    {
     "name": "stdout",
     "output_type": "stream",
     "text": [
      "Tiempos de ejecución de KD-Tree\n",
      " [0.9068584442138672, 1.0843160152435303, 2.5853047370910645, 3.3856048583984375, 3.2031471729278564, 2.998044013977051, 3.073823928833008, 3.160919666290283, 4.798187255859375]\n"
     ]
    }
   ],
   "source": [
    "print(\"Tiempos de ejecución de KD-Tree\\n\",timeKDT)"
   ]
  },
  {
   "cell_type": "markdown",
   "metadata": {},
   "source": [
    "## Tiempos de ejecución de Fuerza Bruta"
   ]
  },
  {
   "cell_type": "code",
   "execution_count": 8,
   "metadata": {},
   "outputs": [
    {
     "name": "stdout",
     "output_type": "stream",
     "text": [
      "Tiempos de ejecución de Fuerza bruta\n",
      " [1.228503942489624, 1.264972448348999, 1.3029088973999023, 1.515381097793579, 1.4752428531646729, 1.428208351135254, 1.4441945552825928, 1.4154114723205566, 1.862593412399292]\n"
     ]
    }
   ],
   "source": [
    "print(\"Tiempos de ejecución de Fuerza bruta\\n\",timeBF)"
   ]
  },
  {
   "cell_type": "markdown",
   "metadata": {},
   "source": [
    "## Comparación tiempos de ejecución"
   ]
  },
  {
   "cell_type": "code",
   "execution_count": 9,
   "metadata": {},
   "outputs": [
    {
     "name": "stdout",
     "output_type": "stream",
     "text": [
      "Tiempos de ejecución de KD-Tree = 0.9068584442138672 con 5 dimensiones\n",
      "Tiempos de ejecución de Fuerza bruta = 1.228503942489624 con 5 dimensiones\n",
      "\n",
      "Tiempos de ejecución de KD-Tree = 1.0843160152435303 con 10 dimensiones\n",
      "Tiempos de ejecución de Fuerza bruta = 1.264972448348999 con 10 dimensiones\n",
      "\n",
      "Tiempos de ejecución de KD-Tree = 2.5853047370910645 con 15 dimensiones\n",
      "Tiempos de ejecución de Fuerza bruta = 1.3029088973999023 con 15 dimensiones\n",
      "\n",
      "Tiempos de ejecución de KD-Tree = 3.3856048583984375 con 20 dimensiones\n",
      "Tiempos de ejecución de Fuerza bruta = 1.515381097793579 con 20 dimensiones\n",
      "\n",
      "Tiempos de ejecución de KD-Tree = 3.2031471729278564 con 25 dimensiones\n",
      "Tiempos de ejecución de Fuerza bruta = 1.4752428531646729 con 25 dimensiones\n",
      "\n",
      "Tiempos de ejecución de KD-Tree = 2.998044013977051 con 30 dimensiones\n",
      "Tiempos de ejecución de Fuerza bruta = 1.428208351135254 con 30 dimensiones\n",
      "\n",
      "Tiempos de ejecución de KD-Tree = 3.073823928833008 con 40 dimensiones\n",
      "Tiempos de ejecución de Fuerza bruta = 1.4441945552825928 con 40 dimensiones\n",
      "\n",
      "Tiempos de ejecución de KD-Tree = 3.160919666290283 con 50 dimensiones\n",
      "Tiempos de ejecución de Fuerza bruta = 1.4154114723205566 con 50 dimensiones\n",
      "\n",
      "Tiempos de ejecución de KD-Tree = 4.798187255859375 con 100 dimensiones\n",
      "Tiempos de ejecución de Fuerza bruta = 1.862593412399292 con 100 dimensiones\n",
      "\n"
     ]
    }
   ],
   "source": [
    "for i in range(len(dimensions)):\n",
    "    print(\"Tiempos de ejecución de KD-Tree =\",timeKDT[i],'con',dimensions[i],'dimensiones')\n",
    "    print(\"Tiempos de ejecución de Fuerza bruta =\",timeBF[i],'con',dimensions[i],'dimensiones\\n')"
   ]
  },
  {
   "cell_type": "markdown",
   "metadata": {},
   "source": [
    "## Graficar comparación de tiempo de ejecución entre Kd-Tree y Fuerza Bruta"
   ]
  },
  {
   "cell_type": "code",
   "execution_count": 10,
   "metadata": {},
   "outputs": [
    {
     "data": {
      "image/png": "[encoded data removed]",
      "text/plain": [
       "<Figure size 432x288 with 1 Axes>"
      ]
     },
     "metadata": {
      "needs_background": "light"
     },
     "output_type": "display_data"
    }
   ],
   "source": [
    "plt.title(\"Comparación de tiempo de ejecución entre Kd-Tree y Fuerza Bruta\\n\") \n",
    "plt.grid()\n",
    "plt.xlabel(\"Dimensiones\")\n",
    "plt.ylabel(\"Tiempo de ejecución en segundos\") \n",
    "plt.plot(dimensions, timeKDT, label = 'KD-Tree')\n",
    "plt.plot(dimensions, timeBF, label = 'Fuerza bruta')\n",
    "plt.legend()\n",
    "plt.show()"
   ]
  }
 ],
 "metadata": {
  "kernelspec": {
   "display_name": "Python 3",
   "language": "python",
   "name": "python3"
  },
  "language_info": {
   "codemirror_mode": {
    "name": "ipython",
    "version": 3
   },
   "file_extension": ".py",
   "mimetype": "text/x-python",
   "name": "python",
   "nbconvert_exporter": "python",
   "pygments_lexer": "ipython3",
   "version": "3.7.4"
  }
 },
 "nbformat": 4,
 "nbformat_minor": 4
}
