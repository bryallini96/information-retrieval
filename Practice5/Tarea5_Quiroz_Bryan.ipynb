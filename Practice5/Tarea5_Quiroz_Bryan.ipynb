{
 "cells": [
  {
   "cell_type": "markdown",
   "metadata": {},
   "source": [
    "# Práctica 5 - Recuperación de información: Spaghetti Algorithm\n",
    "Alumno: Bryan Rodrigo Quiroz Palominos"
   ]
  },
  {
   "cell_type": "markdown",
   "metadata": {},
   "source": [
    "### Instrucciones: Realizar la implementación del algoritmo spaghetti para búsqueda en espacios métricos"
   ]
  },
  {
   "cell_type": "markdown",
   "metadata": {},
   "source": [
    "## Librerias utilizadas"
   ]
  },
  {
   "cell_type": "code",
   "execution_count": 1,
   "metadata": {},
   "outputs": [],
   "source": [
    "import numpy as np\n",
    "import math\n",
    "import random"
   ]
  },
  {
   "cell_type": "markdown",
   "metadata": {},
   "source": [
    "## Valores para ejecutar algoritmos"
   ]
  },
  {
   "cell_type": "code",
   "execution_count": 2,
   "metadata": {},
   "outputs": [],
   "source": [
    "data_qty = 10000\n",
    "dimensions = 2\n",
    "radius = 2"
   ]
  },
  {
   "cell_type": "markdown",
   "metadata": {},
   "source": [
    "## Generar datos de n cantidad y m dimensión"
   ]
  },
  {
   "cell_type": "code",
   "execution_count": 3,
   "metadata": {},
   "outputs": [],
   "source": [
    "def generate_data(dimension, quantity):\n",
    "    return 10*np.random.rand(quantity+1, dimensions)"
   ]
  },
  {
   "cell_type": "markdown",
   "metadata": {},
   "source": [
    "## Calcular cantidad de pivotes\n",
    "Los algoritmos basados en pivotes utiliza O(log n) pivotes. "
   ]
  },
  {
   "cell_type": "code",
   "execution_count": 4,
   "metadata": {},
   "outputs": [],
   "source": [
    "def calculate_number_of_pivots(data_number):\n",
    "    return round(math.log(data_number,2))"
   ]
  },
  {
   "cell_type": "markdown",
   "metadata": {},
   "source": [
    "## Obtener pivotes"
   ]
  },
  {
   "cell_type": "code",
   "execution_count": 5,
   "metadata": {},
   "outputs": [],
   "source": [
    "def get_pivots(data):\n",
    "    pivots_number = calculate_number_of_pivots(len(data))\n",
    "    indexes = random.sample(range(0,len(data)), pivots_number)\n",
    "    pivots = np.ones((pivots_number, dimensions))\n",
    "    for i in range(len(indexes)):\n",
    "        pivots[i] = data[indexes[i]]\n",
    "    return pivots, pivots_number"
   ]
  },
  {
   "cell_type": "markdown",
   "metadata": {},
   "source": [
    "## Calcular distancia de pivote a cada elemento de la base de datos\n",
    "El algoritmo spaghetti tiene dos etapas: Preprocessing y Querying, para el preprocesamiento para cada pivote, se debe calcular y guardar las distancia a cada elemento de la base de datos. "
   ]
  },
  {
   "cell_type": "code",
   "execution_count": 6,
   "metadata": {},
   "outputs": [],
   "source": [
    "def calculate_distance(pivot, data):\n",
    "    euclidean_distance = np.power((pivot - data),2)\n",
    "    euclidean_distance = np.sum(euclidean_distance)\n",
    "    return euclidean_distance\n",
    "\n",
    "def calculate_pivots_distance(pivots, data):\n",
    "    distance = dict()\n",
    "    \n",
    "    for i in range(len(pivots)):\n",
    "        distance[i] = []\n",
    "        for j in range(len(data)):\n",
    "            distance[i].append([calculate_distance(pivots[i], data[j]), j])\n",
    "    return distance"
   ]
  },
  {
   "cell_type": "markdown",
   "metadata": {},
   "source": [
    "## Calcular intervalos de índice"
   ]
  },
  {
   "cell_type": "code",
   "execution_count": 7,
   "metadata": {},
   "outputs": [],
   "source": [
    "def get_index_intervals(pivots_number, distance, k_sets):\n",
    "    index_intervals = []\n",
    "\n",
    "    for i in range(pivots_number):\n",
    "        aux = []\n",
    "        for j in distance[i]:\n",
    "            a,b = j\n",
    "            if (a>k_sets[i][1]):\n",
    "                break\n",
    "            if (a >= k_sets[i][0]):\n",
    "                aux.append(b)\n",
    "        index_intervals.append(aux)\n",
    "    return index_intervals"
   ]
  },
  {
   "cell_type": "markdown",
   "metadata": {},
   "source": [
    "## Calcular vecinos más cercanos "
   ]
  },
  {
   "cell_type": "code",
   "execution_count": 8,
   "metadata": {},
   "outputs": [],
   "source": [
    "def nearest_neighbors(candidates):\n",
    "    neighbors = []\n",
    "    \n",
    "    for i in candidates:\n",
    "        distance = calculate_distance(query,data[i])\n",
    "        if distance <= radius: \n",
    "            neighbors.append(data[i])\n",
    "            \n",
    "    return neighbors"
   ]
  },
  {
   "cell_type": "markdown",
   "metadata": {},
   "source": [
    "## Ejecutar algoritmo spaghetti "
   ]
  },
  {
   "cell_type": "markdown",
   "metadata": {},
   "source": [
    "### Preprocessing"
   ]
  },
  {
   "cell_type": "markdown",
   "metadata": {},
   "source": [
    "#### Generar datos y valor a consultar"
   ]
  },
  {
   "cell_type": "code",
   "execution_count": 9,
   "metadata": {},
   "outputs": [],
   "source": [
    "data = generate_data(dimensions, data_qty)\n",
    "query = data[0]\n",
    "data = data[1:]"
   ]
  },
  {
   "cell_type": "code",
   "execution_count": 10,
   "metadata": {},
   "outputs": [
    {
     "name": "stdout",
     "output_type": "stream",
     "text": [
      "\n",
      "Datos generados: [[9.57106707 8.49783522]\n",
      " [2.71753676 6.95677774]\n",
      " [1.73653592 7.46087357]\n",
      " ...\n",
      " [2.12945652 1.04666692]\n",
      " [4.48851466 8.67784302]\n",
      " [4.92588722 4.50772659]]\n",
      "\n",
      "Valor a consultar: [6.07850176 4.63488027]\n"
     ]
    }
   ],
   "source": [
    "print('\\nDatos generados:',data)\n",
    "print('\\nValor a consultar:',query)"
   ]
  },
  {
   "cell_type": "markdown",
   "metadata": {},
   "source": [
    "#### Obtener pivotes"
   ]
  },
  {
   "cell_type": "code",
   "execution_count": 11,
   "metadata": {},
   "outputs": [
    {
     "name": "stdout",
     "output_type": "stream",
     "text": [
      "Número de pivotes O(log( 10000 ): 13\n"
     ]
    }
   ],
   "source": [
    "pivots, pivots_number = get_pivots(data)\n",
    "print('Número de pivotes O(log(',len(data),'):',pivots_number)"
   ]
  },
  {
   "cell_type": "markdown",
   "metadata": {},
   "source": [
    "#### Calcular distancia entre pivots a cada elemento de la base de datos"
   ]
  },
  {
   "cell_type": "code",
   "execution_count": 12,
   "metadata": {},
   "outputs": [],
   "source": [
    "distance = calculate_pivots_distance(pivots, data)"
   ]
  },
  {
   "cell_type": "markdown",
   "metadata": {},
   "source": [
    "#### Ordenar distancia por cada pivote"
   ]
  },
  {
   "cell_type": "code",
   "execution_count": 13,
   "metadata": {},
   "outputs": [],
   "source": [
    "distance_aux = dict()\n",
    "i = 0\n",
    "for value in distance.values():\n",
    "    aux = sorted(value, reverse=False, key=lambda x: x[0])\n",
    "    distance_aux[i] = aux\n",
    "    i +=1\n",
    "distance.update(distance_aux)"
   ]
  },
  {
   "cell_type": "markdown",
   "metadata": {},
   "source": [
    "### Querying"
   ]
  },
  {
   "cell_type": "markdown",
   "metadata": {},
   "source": [
    "#### Obtener intervalos\n",
    "Definir k conjuntos"
   ]
  },
  {
   "cell_type": "code",
   "execution_count": 14,
   "metadata": {},
   "outputs": [],
   "source": [
    "k_sets = np.ones((pivots_number, dimensions))\n",
    "\n",
    "for i in range(pivots_number):\n",
    "    k_sets[i] = [calculate_distance(pivots[i], query) - radius, calculate_distance(pivots[i], query) + radius]"
   ]
  },
  {
   "cell_type": "code",
   "execution_count": 15,
   "metadata": {},
   "outputs": [
    {
     "name": "stdout",
     "output_type": "stream",
     "text": [
      "K-Conjuntos\n",
      "[26.64280677 30.64280677]\n",
      "[4.17363865 8.17363865]\n",
      "[-0.327558  3.672442]\n",
      "[27.49488563 31.49488563]\n",
      "[ 8.8785493 12.8785493]\n",
      "[20.6984522 24.6984522]\n",
      "[20.49570135 24.49570135]\n",
      "[25.69118258 29.69118258]\n",
      "[36.11493171 40.11493171]\n",
      "[15.19681578 19.19681578]\n",
      "[30.0292779 34.0292779]\n",
      "[19.08612417 23.08612417]\n",
      "[26.59830841 30.59830841]\n"
     ]
    }
   ],
   "source": [
    "print('K-Conjuntos')\n",
    "for k in k_sets:\n",
    "    print(k)"
   ]
  },
  {
   "cell_type": "markdown",
   "metadata": {},
   "source": [
    "#### Obtener intervalos de índice"
   ]
  },
  {
   "cell_type": "code",
   "execution_count": 16,
   "metadata": {},
   "outputs": [],
   "source": [
    "index_intervals = get_index_intervals(pivots_number, distance, k_sets)"
   ]
  },
  {
   "cell_type": "markdown",
   "metadata": {},
   "source": [
    "#### Obtener candidatos por medio de intersección"
   ]
  },
  {
   "cell_type": "code",
   "execution_count": 17,
   "metadata": {},
   "outputs": [
    {
     "name": "stdout",
     "output_type": "stream",
     "text": [
      "8 candidatos: {5600, 9286, 2503, 8848, 8658, 5332, 6932, 8447}\n"
     ]
    }
   ],
   "source": [
    "candidates = set(index_intervals[0]).intersection(*index_intervals)\n",
    "print(len(candidates),'candidatos:',candidates)"
   ]
  },
  {
   "cell_type": "markdown",
   "metadata": {},
   "source": [
    "#### Obtener vecinos más cercanos"
   ]
  },
  {
   "cell_type": "code",
   "execution_count": 18,
   "metadata": {},
   "outputs": [
    {
     "name": "stdout",
     "output_type": "stream",
     "text": [
      "\n",
      "Consulta: [6.07850176 4.63488027]\n",
      "\n",
      "Radio: 2\n",
      "\n",
      "Neighbors:\n",
      "Vecino # 0 : [6.05083404 4.71704145]\n",
      "Vecino # 1 : [6.00515943 4.67156166]\n",
      "Vecino # 2 : [6.11959619 4.50615312]\n",
      "Vecino # 3 : [6.20794959 4.45707526]\n",
      "Vecino # 4 : [6.09243058 4.77756331]\n",
      "Vecino # 5 : [6.01218422 4.55694733]\n",
      "Vecino # 6 : [5.94561107 4.69402079]\n",
      "Vecino # 7 : [6.02377092 4.66729756]\n"
     ]
    }
   ],
   "source": [
    "neighbors = nearest_neighbors(candidates)\n",
    "\n",
    "print('\\nConsulta:',query)\n",
    "print('\\nRadio:',radius)\n",
    "print('\\nNeighbors:')\n",
    "for i in range(len(neighbors)):\n",
    "    print('Vecino #',i,':',neighbors[i])"
   ]
  }
 ],
 "metadata": {
  "kernelspec": {
   "display_name": "Python 3",
   "language": "python",
   "name": "python3"
  },
  "language_info": {
   "codemirror_mode": {
    "name": "ipython",
    "version": 3
   },
   "file_extension": ".py",
   "mimetype": "text/x-python",
   "name": "python",
   "nbconvert_exporter": "python",
   "pygments_lexer": "ipython3",
   "version": "3.7.4"
  }
 },
 "nbformat": 4,
 "nbformat_minor": 4
}
