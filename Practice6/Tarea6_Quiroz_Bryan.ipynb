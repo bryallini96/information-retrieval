{
 "cells": [
  {
   "cell_type": "markdown",
   "metadata": {},
   "source": [
    "# Práctica 6 - Recuperación de información: Locality-sensitive hashing \n",
    "Alumno: Bryan Rodrigo Quiroz Palominos"
   ]
  },
  {
   "cell_type": "markdown",
   "metadata": {},
   "source": [
    "### Instrucciones: Realizar implementación del algoritmo Locality-sensitive hashing (LSH) para muestreo de bits para la distancia de Hamming"
   ]
  },
  {
   "cell_type": "markdown",
   "metadata": {},
   "source": [
    "## Librerias utilizadas"
   ]
  },
  {
   "cell_type": "code",
   "execution_count": 49,
   "metadata": {},
   "outputs": [],
   "source": [
    "import numpy as np"
   ]
  },
  {
   "cell_type": "markdown",
   "metadata": {},
   "source": [
    "## Parámetros para ejecutar algoritmo"
   ]
  },
  {
   "cell_type": "code",
   "execution_count": 50,
   "metadata": {},
   "outputs": [],
   "source": [
    "data_qty = 100 #Tamaño de base de datos\n",
    "bit_str_len = 8 #Tamaño de cadena de bits de base de datos\n",
    "radius = 2 #Radio\n",
    "num_hash_functions = 3 #Número de funciones hash\n",
    "bits_cant = 3 #Cantidad de bits a tomar en función hash\n",
    "lsh = [] #Lista para LSH"
   ]
  },
  {
   "cell_type": "markdown",
   "metadata": {},
   "source": [
    "## Generar base de datos"
   ]
  },
  {
   "cell_type": "code",
   "execution_count": 51,
   "metadata": {},
   "outputs": [],
   "source": [
    "database = np.random.randint(2, size=(data_qty + 1, bit_str_len))\n",
    "query = database[0]\n",
    "database = database[1:]"
   ]
  },
  {
   "cell_type": "markdown",
   "metadata": {},
   "source": [
    "## Método para aplicar función hash\n",
    "La función hash consiste en tomar n bits aleatorios y convertirlos a decimal."
   ]
  },
  {
   "cell_type": "code",
   "execution_count": 52,
   "metadata": {},
   "outputs": [],
   "source": [
    "def hash_function(bit_str):\n",
    "    selected_bits = np.random.choice(bit_str, bits_cant)\n",
    "    selected_bits_to_string = ''.join(map(str, selected_bits))\n",
    "    decimal_value = int(str(selected_bits_to_string), 2)\n",
    "    return decimal_value"
   ]
  },
  {
   "cell_type": "markdown",
   "metadata": {},
   "source": [
    "## Método para calcular distancia de hamming"
   ]
  },
  {
   "cell_type": "code",
   "execution_count": 53,
   "metadata": {},
   "outputs": [],
   "source": [
    "def hamming_distance(bit_str):\n",
    "    bit_str_to_str = ''.join(map(str, bit_str))\n",
    "    return bit_str_to_str.count('1')"
   ]
  },
  {
   "cell_type": "markdown",
   "metadata": {},
   "source": [
    "## Aplicar familia de funciones hash a base de datos"
   ]
  },
  {
   "cell_type": "code",
   "execution_count": 54,
   "metadata": {},
   "outputs": [
    {
     "name": "stdout",
     "output_type": "stream",
     "text": [
      "\n",
      "Se aplicaron 3 funciones hash en la base de datos\n",
      "\n",
      "{1: [0, 3, 10, 12, 20, 33, 34, 39, 45, 76, 78, 79, 83, 87, 94, 97], 6: [1, 13, 16, 21, 22, 28, 44, 46, 53, 66, 86], 0: [2, 8, 9, 23, 30, 31, 36, 51, 52, 56, 61, 68, 74, 81, 85, 90, 98, 99], 3: [4, 24, 29, 41, 47, 57, 63, 71, 72, 93], 7: [5, 6, 14, 15, 17, 25, 27, 43, 48, 58, 64, 67, 70, 73, 77, 80, 84, 91, 96], 4: [7, 11, 18, 26, 32, 35, 37, 40, 42, 54, 55, 62, 69], 5: [19, 49, 50, 59, 65, 88, 89], 2: [38, 60, 75, 82, 92, 95]} \n",
      "\n",
      "{2: [0, 41, 55, 62, 68, 71, 85, 93, 96], 3: [1, 6, 7, 27, 33, 35, 39, 40, 63, 80], 6: [2, 4, 16, 25, 28, 29, 42, 43, 49, 56, 69, 81, 97], 0: [3, 8, 12, 13, 21, 22, 30, 32, 45, 51, 52, 54, 59, 61, 75, 88, 90, 91, 95, 99], 5: [5, 9, 10, 23, 65, 70, 72, 73, 79, 82, 89, 92], 1: [11, 14, 19, 24, 26, 38, 60, 74, 86], 7: [15, 18, 20, 37, 44, 46, 48, 50, 57, 58, 64, 66, 67, 77, 78, 87, 94, 98], 4: [17, 31, 34, 36, 47, 53, 76, 83, 84]} \n",
      "\n",
      "{1: [0, 4, 9, 24, 30, 31, 33, 49, 62, 71, 73, 74, 80], 3: [1, 18, 21, 27, 28, 32, 40, 42, 48, 50, 63, 67, 78, 79, 86, 93], 0: [2, 7, 19, 36, 38, 41, 44, 52, 53, 54, 55, 59, 61, 75, 95], 4: [3, 10, 13, 14, 29, 47, 56, 81, 98], 2: [5, 8, 22, 39, 45, 60, 65, 85, 90, 94, 96], 5: [6, 12, 16, 23, 26, 35, 70, 83, 91, 99], 7: [11, 15, 17, 25, 34, 37, 57, 58, 64, 66, 69, 77, 82, 84, 87, 88, 97], 6: [20, 43, 46, 51, 68, 72, 76, 89, 92]} \n",
      "\n"
     ]
    }
   ],
   "source": [
    "for i in range(num_hash_functions):\n",
    "    lsh.append({})\n",
    "    for j in range(len(database)):\n",
    "        hash_value = hash_function(database[j])\n",
    "        if not lsh[i].get(hash_value):\n",
    "            lsh[i][hash_value] = []\n",
    "        lsh[i][hash_value].append(j)\n",
    "\n",
    "print('\\nSe aplicaron', num_hash_functions, 'funciones hash en la base de datos\\n')\n",
    "for i in range(len(lsh)):\n",
    "    print(lsh[i],'\\n')"
   ]
  },
  {
   "cell_type": "markdown",
   "metadata": {},
   "source": [
    "## Aplicar familia de funciones hash a consulta"
   ]
  },
  {
   "cell_type": "code",
   "execution_count": 55,
   "metadata": {},
   "outputs": [
    {
     "name": "stdout",
     "output_type": "stream",
     "text": [
      "\n",
      "Se aplicaron 3 funciones hash a la consulta [0 0 0 1 1 1 1 1] obteniendo los valores: [6, 2, 2]\n"
     ]
    }
   ],
   "source": [
    "hash_function_in_query = []\n",
    "for i in range(num_hash_functions):\n",
    "    hash_function_in_query.append(hash_function(query))\n",
    "print('\\nSe aplicaron', num_hash_functions, 'funciones hash a la consulta', query, 'obteniendo los valores:', hash_function_in_query)"
   ]
  },
  {
   "cell_type": "markdown",
   "metadata": {},
   "source": [
    "## Obtener valores con respecto al resultado de aplicar la familia de funciones hash en consulta"
   ]
  },
  {
   "cell_type": "code",
   "execution_count": 56,
   "metadata": {},
   "outputs": [
    {
     "name": "stdout",
     "output_type": "stream",
     "text": [
      "\n",
      "Se obtuvieron 3 listas con los índices de valores de base de datos: [[1, 13, 16, 21, 22, 28, 44, 46, 53, 66, 86], [0, 41, 55, 62, 68, 71, 85, 93, 96], [5, 8, 22, 39, 45, 60, 65, 85, 90, 94, 96]]\n"
     ]
    }
   ],
   "source": [
    "buckets = []\n",
    "for i in range(num_hash_functions):\n",
    "    id_bit_str = lsh[i].get(hash_function_in_query[i])\n",
    "    if lsh[i].get(hash_function_in_query[i]):\n",
    "        buckets.append(id_bit_str)\n",
    "print('\\nSe obtuvieron', len(buckets), 'listas con los índices de valores de base de datos:', buckets)"
   ]
  },
  {
   "cell_type": "markdown",
   "metadata": {},
   "source": [
    "## Obtener candidatos"
   ]
  },
  {
   "cell_type": "code",
   "execution_count": 57,
   "metadata": {},
   "outputs": [
    {
     "name": "stdout",
     "output_type": "stream",
     "text": [
      "\n",
      "Número de cantidatos: 28\n",
      "\n",
      "Índice de candidatos: {0, 1, 5, 8, 13, 16, 21, 22, 28, 39, 41, 44, 45, 46, 53, 55, 60, 62, 65, 66, 68, 71, 85, 86, 90, 93, 94, 96}\n"
     ]
    }
   ],
   "source": [
    "candidates_list = []\n",
    "for i in buckets:\n",
    "    candidates_list += i\n",
    "\n",
    "candidates_set = set(candidates_list)\n",
    "print('\\nNúmero de cantidatos:', len(candidates_set))\n",
    "print('\\nÍndice de candidatos:', candidates_set)"
   ]
  },
  {
   "cell_type": "markdown",
   "metadata": {},
   "source": [
    "## Calcular distancia de hamming en consulta"
   ]
  },
  {
   "cell_type": "code",
   "execution_count": 58,
   "metadata": {},
   "outputs": [
    {
     "name": "stdout",
     "output_type": "stream",
     "text": [
      "\n",
      "Distancia de hamming de consulta: 5\n"
     ]
    }
   ],
   "source": [
    "query_hamming_distance = hamming_distance(query)\n",
    "print('\\nDistancia de hamming de consulta:', query_hamming_distance)"
   ]
  },
  {
   "cell_type": "markdown",
   "metadata": {},
   "source": [
    "## Calcular vecinos más cercanos"
   ]
  },
  {
   "cell_type": "code",
   "execution_count": 59,
   "metadata": {},
   "outputs": [],
   "source": [
    "neighbors = []\n",
    "for i in candidates_set:\n",
    "    if abs(query_hamming_distance - hamming_distance(database[i])) <= radius:\n",
    "        neighbors.append(database[i])"
   ]
  },
  {
   "cell_type": "code",
   "execution_count": 60,
   "metadata": {},
   "outputs": [
    {
     "name": "stdout",
     "output_type": "stream",
     "text": [
      "\n",
      "Consulta: [0 0 0 1 1 1 1 1]\n",
      "\n",
      "Radio: 2\n",
      "\n",
      "Distancia de hamming de consulta: 5\n",
      "\n",
      "Número de vecinos más cercanos: 26\n",
      "\n",
      "Neighbors:\n",
      "Vecino # 1 : [0 1 1 0 0 1 0 0]\n",
      "Vecino # 2 : [1 0 1 0 1 0 1 0]\n",
      "Vecino # 3 : [0 0 1 0 1 1 1 0]\n",
      "Vecino # 4 : [0 1 0 1 0 1 0 0]\n",
      "Vecino # 5 : [0 1 0 1 0 1 0 0]\n",
      "Vecino # 6 : [1 0 1 1 1 1 0 1]\n",
      "Vecino # 7 : [0 0 1 1 1 0 1 0]\n",
      "Vecino # 8 : [1 0 1 0 1 0 0 1]\n",
      "Vecino # 9 : [1 1 1 1 1 1 0 0]\n",
      "Vecino # 10 : [1 0 1 1 0 1 0 0]\n",
      "Vecino # 11 : [0 1 0 0 0 1 1 0]\n",
      "Vecino # 12 : [1 0 0 0 0 1 1 0]\n",
      "Vecino # 13 : [1 0 0 1 1 1 1 1]\n",
      "Vecino # 14 : [0 1 1 1 0 0 0 1]\n",
      "Vecino # 15 : [0 1 0 0 0 1 0 1]\n",
      "Vecino # 16 : [1 1 0 1 0 1 0 1]\n",
      "Vecino # 17 : [0 0 1 1 1 0 0 0]\n",
      "Vecino # 18 : [0 0 1 1 0 1 0 1]\n",
      "Vecino # 19 : [1 0 1 0 0 0 1 1]\n",
      "Vecino # 20 : [0 1 1 0 1 0 1 0]\n",
      "Vecino # 21 : [0 0 1 1 0 0 1 1]\n",
      "Vecino # 22 : [0 1 1 1 0 0 0 0]\n",
      "Vecino # 23 : [1 1 0 1 1 0 0 1]\n",
      "Vecino # 24 : [1 0 1 0 1 1 0 0]\n",
      "Vecino # 25 : [1 1 1 0 1 0 1 0]\n",
      "Vecino # 26 : [0 0 0 1 1 0 0 1]\n"
     ]
    }
   ],
   "source": [
    "print('\\nConsulta:',query)\n",
    "print('\\nRadio:',radius)\n",
    "print('\\nDistancia de hamming de consulta:', query_hamming_distance)\n",
    "print('\\nNúmero de vecinos más cercanos:', len(neighbors))\n",
    "print('\\nNeighbors:')\n",
    "for i in range(len(neighbors)):\n",
    "    print('Vecino #',i+1,':',neighbors[i])"
   ]
  }
 ],
 "metadata": {
  "kernelspec": {
   "display_name": "Python 3",
   "language": "python",
   "name": "python3"
  },
  "language_info": {
   "codemirror_mode": {
    "name": "ipython",
    "version": 3
   },
   "file_extension": ".py",
   "mimetype": "text/x-python",
   "name": "python",
   "nbconvert_exporter": "python",
   "pygments_lexer": "ipython3",
   "version": "3.7.4"
  }
 },
 "nbformat": 4,
 "nbformat_minor": 4
}
